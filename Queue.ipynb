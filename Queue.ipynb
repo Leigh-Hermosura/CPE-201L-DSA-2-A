{
  "nbformat": 4,
  "nbformat_minor": 0,
  "metadata": {
    "colab": {
      "provenance": [],
      "authorship_tag": "ABX9TyPsSRjnnjFUCMZJxU4YKylq",
      "include_colab_link": true
    },
    "kernelspec": {
      "name": "python3",
      "display_name": "Python 3"
    },
    "language_info": {
      "name": "python"
    }
  },
  "cells": [
    {
      "cell_type": "markdown",
      "metadata": {
        "id": "view-in-github",
        "colab_type": "text"
      },
      "source": [
        "<a href=\"https://colab.research.google.com/github/Leigh-Hermosura/CPE-201L-DSA-2-A/blob/main/Queue.ipynb\" target=\"_parent\"><img src=\"https://colab.research.google.com/assets/colab-badge.svg\" alt=\"Open In Colab\"/></a>"
      ]
    },
    {
      "cell_type": "code",
      "execution_count": null,
      "metadata": {
        "colab": {
          "base_uri": "https://localhost:8080/"
        },
        "id": "3cbE9OTb2Ey0",
        "outputId": "cd71d6e2-04dd-4071-ce24-88a40132f4cf"
      },
      "outputs": [
        {
          "output_type": "stream",
          "name": "stdout",
          "text": [
            "['A', 'B', 'C']\n",
            "A\n",
            "B\n",
            "['C']\n"
          ]
        }
      ],
      "source": [
        "queue = []\n",
        "#enqueue items into queue\n",
        "queue.append('A')\n",
        "queue.append('B')\n",
        "queue.append('C')\n",
        "print(queue)\n",
        "\n",
        "#dequeue items from the queue\n",
        "print(queue.pop(0))\n",
        "print(queue.pop(0))\n",
        "print(queue)\n",
        "\n",
        "#def empty_queue:\n",
        "#def full_\n",
        "#def Head_\n",
        "#def Tail_"
      ]
    },
    {
      "cell_type": "code",
      "source": [
        "class Queue:\n",
        "    def __init__(self):\n",
        "        self.queue = []\n",
        "\n",
        "    def enqueue(self, dataval):\n",
        "        # Use list append method to add element\n",
        "        if dataval not in self.queue:\n",
        "            self.queue.append(dataval)\n",
        "            return True\n",
        "        else:\n",
        "            return False\n",
        "\n",
        "    def dequeue(self):\n",
        "        # Remove and return the top element (last in first out)\n",
        "        if len(self.queue) <= 0:\n",
        "            return \"Queue is empty\"\n",
        "        else:\n",
        "            return self.queue.pop(0)\n",
        "\n",
        "    def display(self):\n",
        "      for item in reversed(self.queue):    #stack = [\"Sun\",\"Mon\",\"Tues\",\"Wed\",\"Thurs\",\"Fri\",\"Sat\"]\n",
        "        print(item)\n",
        "\n",
        "    def full_queue(self):\n",
        "      self.queue.append(\"Sun\")\n",
        "      self.queue.append(\"Mon\")\n",
        "      self.queue.append(\"Tue\")\n",
        "      self.queue.append(\"Wed\")\n",
        "      self.queue.append(\"Thu\")\n",
        "      self.queue.append(\"Fri\")\n",
        "      self.queue.append(\"Sat\")\n",
        "      return print(\"Queue is full\")\n",
        "\n",
        "    def empty_queue(self):\n",
        "      while self.queue:\n",
        "        self.queue.pop(0)\n",
        "      return print(\"Queue is emptied\")\n",
        "\n",
        "    def top_element(self):\n",
        "      if self.queue:\n",
        "        print(f\"Top element: {self.queue[-1]}\")\n",
        "      else:\n",
        "        print(\"Queue is empty\")\n",
        "\n",
        "    def head_queue(self):\n",
        "      if self.queue:\n",
        "        print(f\"Queue Head: {self.queue[0]}\")\n",
        "      else:\n",
        "        print(\"Queue is empty\")\n",
        "\n",
        "    def tail_queue(self):\n",
        "      if self.queue:\n",
        "        print(f\"Queue Tail: {self.queue[-1]}\")\n",
        "      else:\n",
        "        print(\"Queue is empty\")\n",
        "\n",
        "AQueue = Queue()\n",
        "AQueue.enqueue(\"Sun\")\n",
        "AQueue.enqueue(\"Mon\")\n",
        "AQueue.enqueue(\"Tue\")\n",
        "AQueue.enqueue(\"Wed\")\n",
        "AQueue.enqueue(\"Thu\")\n",
        "AQueue.enqueue(\"Fri\")\n",
        "AQueue.enqueue(\"Sat\")\n",
        "AQueue.display() # original queue\n",
        "\n",
        "print()\n",
        "AQueue.empty_queue() # pop all items in the queue\n",
        "AQueue.display() # checking if there are still items inside the queue\n",
        "\n",
        "print()\n",
        "AQueue.full_queue() # fills the queue\n",
        "\n",
        "print()\n",
        "AQueue.display() # check the contents of the queue\n",
        "\n",
        "print()\n",
        "AQueue.top_element() # indicates the top element of the queue\n",
        "\n",
        "print()\n",
        "AQueue.head_queue() # indicates the head element of the queue\n",
        "\n",
        "print()\n",
        "AQueue.tail_queue() # indicates the tail element of the queue"
      ],
      "metadata": {
        "colab": {
          "base_uri": "https://localhost:8080/"
        },
        "id": "UPAxYOvR2u81",
        "outputId": "6a83dfd1-93e8-4748-f931-0829a53537a7"
      },
      "execution_count": null,
      "outputs": [
        {
          "output_type": "stream",
          "name": "stdout",
          "text": [
            "Sat\n",
            "Fri\n",
            "Thu\n",
            "Wed\n",
            "Tue\n",
            "Mon\n",
            "Sun\n",
            "\n",
            "Queue is emptied\n",
            "\n",
            "Queue is full\n",
            "\n",
            "Sat\n",
            "Fri\n",
            "Thu\n",
            "Wed\n",
            "Tue\n",
            "Mon\n",
            "Sun\n",
            "\n",
            "Top element: Sat\n",
            "\n",
            "Queue Head: Sun\n",
            "\n",
            "Queue Tail: Sat\n"
          ]
        }
      ]
    }
  ]
}