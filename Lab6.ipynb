{
  "nbformat": 4,
  "nbformat_minor": 0,
  "metadata": {
    "colab": {
      "provenance": [],
      "authorship_tag": "ABX9TyP18MWAKak4sULsWW2Grdla",
      "include_colab_link": true
    },
    "kernelspec": {
      "name": "python3",
      "display_name": "Python 3"
    },
    "language_info": {
      "name": "python"
    }
  },
  "cells": [
    {
      "cell_type": "markdown",
      "metadata": {
        "id": "view-in-github",
        "colab_type": "text"
      },
      "source": [
        "<a href=\"https://colab.research.google.com/github/Leigh-Hermosura/CPE-201L-DSA-2-A/blob/main/Lab6.ipynb\" target=\"_parent\"><img src=\"https://colab.research.google.com/assets/colab-badge.svg\" alt=\"Open In Colab\"/></a>"
      ]
    },
    {
      "cell_type": "markdown",
      "source": [
        "•\tWrite a Python program to create a singly linked list of prime numbers less than 20. By iterating through the list, display all the prime numbers, the head, and the tail of the list."
      ],
      "metadata": {
        "id": "XvA3ZvQ9JTXd"
      }
    },
    {
      "cell_type": "code",
      "execution_count": 21,
      "metadata": {
        "colab": {
          "base_uri": "https://localhost:8080/"
        },
        "id": "75o_eqKEI-wB",
        "outputId": "d46424b3-c56d-47a2-8ccb-4dd38bd31211"
      },
      "outputs": [
        {
          "output_type": "stream",
          "name": "stdout",
          "text": [
            "List of prime numbers less than 20:\n",
            "2\n",
            "3\n",
            "5\n",
            "7\n",
            "11\n",
            "13\n",
            "17\n",
            "19\n",
            "\n",
            "List head: 2\n",
            "List tail: 19\n"
          ]
        }
      ],
      "source": [
        "class Node:\n",
        "  def __init__(self, data):\n",
        "    self.data = data\n",
        "    self.next = None\n",
        "\n",
        "class LinkedList:\n",
        "  def __init__(self):\n",
        "    self.head = None\n",
        "\n",
        "  def print_all(self):\n",
        "    current = self.head\n",
        "    while current:\n",
        "      print(current.data)\n",
        "      current = current.next\n",
        "\n",
        "  def append(self, new_data):\n",
        "    new_node = Node(new_data)\n",
        "    if not self.head:\n",
        "      self.head = new_node\n",
        "      return\n",
        "    last = self.head\n",
        "    while last.next:\n",
        "      last = last.next\n",
        "    last.next = new_node\n",
        "\n",
        "  def giveHead(self):\n",
        "    if self.head:\n",
        "      print(\"List head:\", self.head.data)\n",
        "    else:\n",
        "      print(\"List empty\")\n",
        "\n",
        "  def giveTail(self):\n",
        "    if not self.head:\n",
        "      print(\"List empty\")\n",
        "      return\n",
        "    current = self.head\n",
        "    while current.next:\n",
        "      current = current.next\n",
        "    print(\"List tail:\", current.data)\n",
        "\n",
        "\n",
        "def primeGenerator(llist):\n",
        "  for num in range(2, 21):\n",
        "    for i in range(2, int(num ** 0.5) + 1):\n",
        "      if num % i == 0:\n",
        "        break\n",
        "    else:\n",
        "      llist.append(num)\n",
        "\n",
        "if __name__ == \"__main__\":\n",
        "  llist = LinkedList()\n",
        "\n",
        "print(\"List of prime numbers less than 20:\")\n",
        "primeGenerator(llist)\n",
        "llist.print_all()\n",
        "\n",
        "print()\n",
        "llist.giveHead()\n",
        "llist.giveTail()\n"
      ]
    }
  ]
}