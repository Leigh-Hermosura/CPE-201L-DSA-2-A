{
  "nbformat": 4,
  "nbformat_minor": 0,
  "metadata": {
    "colab": {
      "provenance": [],
      "authorship_tag": "ABX9TyOmFLvpeiLExhuRBDJUVkBv",
      "include_colab_link": true
    },
    "kernelspec": {
      "name": "python3",
      "display_name": "Python 3"
    },
    "language_info": {
      "name": "python"
    }
  },
  "cells": [
    {
      "cell_type": "markdown",
      "metadata": {
        "id": "view-in-github",
        "colab_type": "text"
      },
      "source": [
        "<a href=\"https://colab.research.google.com/github/Leigh-Hermosura/CPE-201L-DSA-2-A/blob/main/LinkedList.ipynb\" target=\"_parent\"><img src=\"https://colab.research.google.com/assets/colab-badge.svg\" alt=\"Open In Colab\"/></a>"
      ]
    },
    {
      "cell_type": "code",
      "execution_count": 7,
      "metadata": {
        "colab": {
          "base_uri": "https://localhost:8080/"
        },
        "id": "wkVEEqmq4S9u",
        "outputId": "06270748-dedf-4ebf-c694-a70e6cc38199"
      },
      "outputs": [
        {
          "output_type": "stream",
          "name": "stdout",
          "text": [
            "A\n",
            "B\n",
            "C\n",
            "D\n",
            "None\n"
          ]
        }
      ],
      "source": [
        "# Node class\n",
        "class Node:\n",
        "  # Function to initialize the node object\n",
        "  def __init__(self, data):\n",
        "    self.data = data # Assign data\n",
        "    self.next = None # Initialize next as null\n",
        "\n",
        "\n",
        "# Linked List class contains a Node object\n",
        "class LinkedList:\n",
        "  # Function to initialize linked list object\n",
        "  def __init__(self):\n",
        "    self.head = None\n",
        "\n",
        "  def print_all(self):\n",
        "    current = self.head\n",
        "    while current:\n",
        "      print(current.data)\n",
        "      current = current.next\n",
        "\n",
        "# Code execution starts here\n",
        "if __name__ == \"__main__\":\n",
        "  llist = LinkedList()\n",
        "\n",
        "  llist.head = Node('A')\n",
        "  second = Node('B')\n",
        "  third = Node('C')\n",
        "  fourth = Node('D')\n",
        "\n",
        "  llist.head.next = second # Link first node with second\n",
        "  second.next = third # Link second node with the third node\n",
        "  third.next = fourth\n",
        "\n",
        "print(llist.print_all())"
      ]
    }
  ]
}