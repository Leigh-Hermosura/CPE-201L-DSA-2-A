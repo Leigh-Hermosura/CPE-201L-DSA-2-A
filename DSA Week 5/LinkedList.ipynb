{
  "nbformat": 4,
  "nbformat_minor": 0,
  "metadata": {
    "colab": {
      "provenance": [],
      "authorship_tag": "ABX9TyOEvFsRUSEkJ32/X/P9sO16",
      "include_colab_link": true
    },
    "kernelspec": {
      "name": "python3",
      "display_name": "Python 3"
    },
    "language_info": {
      "name": "python"
    }
  },
  "cells": [
    {
      "cell_type": "markdown",
      "metadata": {
        "id": "view-in-github",
        "colab_type": "text"
      },
      "source": [
        "<a href=\"https://colab.research.google.com/github/Leigh-Hermosura/CPE-201L-DSA-2-A/blob/main/LinkedList.ipynb\" target=\"_parent\"><img src=\"https://colab.research.google.com/assets/colab-badge.svg\" alt=\"Open In Colab\"/></a>"
      ]
    },
    {
      "cell_type": "code",
      "execution_count": 11,
      "metadata": {
        "colab": {
          "base_uri": "https://localhost:8080/"
        },
        "id": "wkVEEqmq4S9u",
        "outputId": "05ffa53d-335c-4b3d-ec22-3c7d859ba694"
      },
      "outputs": [
        {
          "output_type": "stream",
          "name": "stdout",
          "text": [
            "A\n",
            "B\n",
            "C\n",
            "E\n",
            "F\n",
            "G\n",
            "D\n",
            "X\n",
            "Z\n",
            "None\n"
          ]
        }
      ],
      "source": [
        "# Node class\n",
        "class Node:\n",
        "  # Function to initialize the node object\n",
        "  def __init__(self, data):\n",
        "    self.data = data # Assign data\n",
        "    self.next = None # Initialize next as null\n",
        "\n",
        "\n",
        "# Linked List class contains a Node object\n",
        "class LinkedList:\n",
        "  # Function to initialize linked list object\n",
        "  def __init__(self):\n",
        "    self.head = None\n",
        "\n",
        "  def print_all(self):\n",
        "    current = self.head\n",
        "    while current:\n",
        "      print(current.data)\n",
        "      current = current.next\n",
        "\n",
        "  def delete_node(self, key):\n",
        "    current = self.head\n",
        "\n",
        "    if current and current.data == key:\n",
        "        self.head = current.next\n",
        "        current = None\n",
        "        return\n",
        "\n",
        "    prev = None\n",
        "    while current and current.data != key:\n",
        "        prev = current\n",
        "        current = current.next\n",
        "\n",
        "    if current is None:\n",
        "        return  # Key not found\n",
        "\n",
        "    prev.next = current.next\n",
        "    current = None\n",
        "\n",
        "  def append(self, new_data):\n",
        "    new_node = Node(new_data)\n",
        "    if not self.head:\n",
        "      self.head = new_node\n",
        "      return\n",
        "    last = self.head\n",
        "    while last.next:\n",
        "      last = last.next\n",
        "    last.next = new_node\n",
        "\n",
        "# Code execution starts here\n",
        "if __name__ == \"__main__\":\n",
        "  llist = LinkedList()\n",
        "\n",
        "  llist.head = Node('A')\n",
        "  second = Node('B')\n",
        "  third = Node('C')\n",
        "  fourth = Node('Burger')\n",
        "  fifth = Node('E')\n",
        "  sixth = Node('F')\n",
        "  seventh = Node('G')\n",
        "  eighth = Node('Spaghetti')\n",
        "\n",
        "  llist.head.next = second # Link first node with second\n",
        "  second.next = third # Link second node with the third node\n",
        "  third.next = fourth\n",
        "  fourth.next = fifth\n",
        "  fifth.next = sixth\n",
        "  sixth.next = seventh\n",
        "  seventh.next = eighth\n",
        "\n",
        "\n",
        "llist.delete_node('Burger')\n",
        "llist.append('D')\n",
        "llist.delete_node('Spaghetti')\n",
        "llist.append('X')\n",
        "llist.append('Y')\n",
        "llist.append('Z')\n",
        "llist.delete_node('Y')\n",
        "print(llist.print_all())\n"
      ]
    },
    {
      "cell_type": "code",
      "source": [],
      "metadata": {
        "id": "GEDay0fzOq-i"
      },
      "execution_count": null,
      "outputs": []
    }
  ]
}