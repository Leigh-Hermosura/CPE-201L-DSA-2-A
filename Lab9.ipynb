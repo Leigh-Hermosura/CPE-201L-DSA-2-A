{
  "nbformat": 4,
  "nbformat_minor": 0,
  "metadata": {
    "colab": {
      "provenance": [],
      "authorship_tag": "ABX9TyN/7zBkpH6JT1lxBE+t+2Cv",
      "include_colab_link": true
    },
    "kernelspec": {
      "name": "python3",
      "display_name": "Python 3"
    },
    "language_info": {
      "name": "python"
    }
  },
  "cells": [
    {
      "cell_type": "markdown",
      "metadata": {
        "id": "view-in-github",
        "colab_type": "text"
      },
      "source": [
        "<a href=\"https://colab.research.google.com/github/Leigh-Hermosura/CPE-201L-DSA-2-A/blob/main/Lab9.ipynb\" target=\"_parent\"><img src=\"https://colab.research.google.com/assets/colab-badge.svg\" alt=\"Open In Colab\"/></a>"
      ]
    },
    {
      "cell_type": "code",
      "execution_count": 47,
      "metadata": {
        "colab": {
          "base_uri": "https://localhost:8080/"
        },
        "id": "tXlzSXflqtOo",
        "outputId": "6f6c67ce-d502-4d96-ad8c-e6516d4c4209"
      },
      "outputs": [
        {
          "output_type": "stream",
          "name": "stdout",
          "text": [
            "Enqueued Element: 1\n",
            "Enqueued Element: 2\n",
            "Enqueued Element: 3\n",
            "Enqueued Element: 4\n",
            "Enqueued Element: 5\n",
            "\n",
            "Dequeued Element: 1\n",
            "Dequeued Element: 2\n",
            "\n",
            "The elements in the queue are:['3', '4', '5']\n"
          ]
        }
      ],
      "source": [
        "# Queue implementation in python\n",
        "\n",
        "# Creating a queue\n",
        "def create_queue():\n",
        "    queue = []\n",
        "    return queue\n",
        "\n",
        "# Creating an empty queue\n",
        "def is_empty(queue):\n",
        "    return len(queue) == 0\n",
        "\n",
        "# Adding items into the queue\n",
        "def enqueue(queue, item):\n",
        "    queue.append(item)\n",
        "    print(\"Enqueued Element: \" + item)\n",
        "\n",
        "# Removing an element from the queue\n",
        "def dequeue(queue):\n",
        "    if (is_empty(queue)):\n",
        "      print(\"The queue is empty\")\n",
        "      return None\n",
        "    else:\n",
        "        print(\"Dequeued Element: \" + queue[0])\n",
        "        return queue.pop(0)\n",
        "\n",
        "\n",
        "queue = create_queue()\n",
        "enqueue(queue, str(1))\n",
        "enqueue(queue, str(2))\n",
        "enqueue(queue, str(3))\n",
        "enqueue(queue, str(4))\n",
        "enqueue(queue, str(5))\n",
        "\n",
        "print()\n",
        "dequeue(queue)\n",
        "dequeue(queue)\n",
        "\n",
        "print(\"\\nThe elements in the queue are:\"+ str(queue))\n"
      ]
    },
    {
      "cell_type": "code",
      "source": [
        "# Queue implementation in python\n",
        "\n",
        "# Creating a queue\n",
        "def create_queue():\n",
        "    queue = []\n",
        "    return queue\n",
        "\n",
        "# Creating an empty queue\n",
        "def is_empty(queue):\n",
        "    return len(queue) == 0\n",
        "\n",
        "# Adding items into the queue\n",
        "def enqueue(queue, item):\n",
        "    if len(queue) == 0:\n",
        "        queue.append(item)\n",
        "        print(\"Enqueued Element: \" + item)\n",
        "    else:\n",
        "        queue.insert(0, item)\n",
        "        print(\"Enqueued Element: \" + item)\n",
        "\n",
        "# Removing an element from the queue\n",
        "def dequeue(queue):\n",
        "    if (is_empty(queue)):\n",
        "        print(\"The queue is empty\")\n",
        "        return None\n",
        "    else:\n",
        "        print(\"Dequeued Element: \" + queue[-1])\n",
        "        return queue.pop(-1)\n",
        "\n",
        "\n",
        "queue = create_queue()\n",
        "enqueue(queue, str(1))\n",
        "enqueue(queue, str(2))\n",
        "enqueue(queue, str(3))\n",
        "enqueue(queue, str(4))\n",
        "enqueue(queue, str(5))\n",
        "\n",
        "print()\n",
        "dequeue(queue)\n",
        "dequeue(queue)\n",
        "\n",
        "print(\"\\nThe elements in the queue are:\"+ str(queue))\n"
      ],
      "metadata": {
        "colab": {
          "base_uri": "https://localhost:8080/"
        },
        "id": "lMOVkeVt4AeT",
        "outputId": "d24aec7f-730e-4aea-c419-b224130eb0eb"
      },
      "execution_count": 52,
      "outputs": [
        {
          "output_type": "stream",
          "name": "stdout",
          "text": [
            "Enqueued Element: 1\n",
            "Enqueued Element: 2\n",
            "Enqueued Element: 3\n",
            "Enqueued Element: 4\n",
            "Enqueued Element: 5\n",
            "\n",
            "Dequeued Element: 1\n",
            "Dequeued Element: 2\n",
            "\n",
            "The elements in the queue are:['5', '4', '3']\n"
          ]
        }
      ]
    }
  ]
}