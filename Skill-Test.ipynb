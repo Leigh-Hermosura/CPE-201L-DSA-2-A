{
  "nbformat": 4,
  "nbformat_minor": 0,
  "metadata": {
    "colab": {
      "provenance": [],
      "authorship_tag": "ABX9TyMjqLrygm7SX7mK0YovXbXD",
      "include_colab_link": true
    },
    "kernelspec": {
      "name": "python3",
      "display_name": "Python 3"
    },
    "language_info": {
      "name": "python"
    }
  },
  "cells": [
    {
      "cell_type": "markdown",
      "metadata": {
        "id": "view-in-github",
        "colab_type": "text"
      },
      "source": [
        "<a href=\"https://colab.research.google.com/github/Leigh-Hermosura/CPE-201L-DSA-2-A/blob/main/Skill-Test.ipynb\" target=\"_parent\"><img src=\"https://colab.research.google.com/assets/colab-badge.svg\" alt=\"Open In Colab\"/></a>"
      ]
    },
    {
      "cell_type": "code",
      "execution_count": 32,
      "metadata": {
        "colab": {
          "base_uri": "https://localhost:8080/"
        },
        "id": "vbpS5-sELZuy",
        "outputId": "7e17b8ff-148b-41c5-f3e0-55333adc22c3"
      },
      "outputs": [
        {
          "output_type": "stream",
          "name": "stdout",
          "text": [
            "Queue is empty\n",
            "\n",
            "Queue length: 0\n",
            "\n",
            "Queue is not empty\n",
            "\n",
            "Queue length: 21\n",
            "\n",
            "L\n",
            "e\n",
            "i\n",
            "g\n",
            "h\n",
            " \n",
            "B\n",
            "u\n",
            "e\n",
            "n\n",
            "a\n",
            " \n",
            "H\n",
            "e\n",
            "r\n",
            "m\n",
            "o\n",
            "s\n",
            "u\n",
            "r\n",
            "a\n"
          ]
        }
      ],
      "source": [
        "class Queue:\n",
        "  def __init__(self):\n",
        "    self.queue = []\n",
        "\n",
        "  def enqueue(self, dataval):\n",
        "    if dataval not in self.queue:\n",
        "      for char in dataval: # traverses through myName and appends each character\n",
        "        self.queue.append(char)\n",
        "      return True\n",
        "    else:\n",
        "      return False\n",
        "\n",
        "  def print(self):\n",
        "    for item in self.queue:\n",
        "      print(item)\n",
        "\n",
        "  def isQueueEmpty(self):\n",
        "    if len(self.queue) <= 0:\n",
        "      print(\"Queue is empty\\n\")\n",
        "    else:\n",
        "      print(\"Queue is not empty\\n\")\n",
        "\n",
        "  def queueLength(self):\n",
        "    print(f\"Queue length: {len(self.queue)}\\n\")\n",
        "\n",
        "\n",
        "myName = \"Leigh Buena Hermosura\"\n",
        "\n",
        "MyQueue = Queue()\n",
        "MyQueue.isQueueEmpty()\n",
        "MyQueue.queueLength()\n",
        "MyQueue.enqueue(myName)\n",
        "MyQueue.isQueueEmpty()\n",
        "MyQueue.queueLength()\n",
        "MyQueue.print()\n"
      ]
    }
  ]
}