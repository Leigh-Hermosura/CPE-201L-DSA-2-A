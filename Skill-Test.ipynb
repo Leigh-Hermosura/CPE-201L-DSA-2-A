{
  "nbformat": 4,
  "nbformat_minor": 0,
  "metadata": {
    "colab": {
      "provenance": [],
      "authorship_tag": "ABX9TyONGObAvabqoNBfy0t2bdTU",
      "include_colab_link": true
    },
    "kernelspec": {
      "name": "python3",
      "display_name": "Python 3"
    },
    "language_info": {
      "name": "python"
    }
  },
  "cells": [
    {
      "cell_type": "markdown",
      "metadata": {
        "id": "view-in-github",
        "colab_type": "text"
      },
      "source": [
        "<a href=\"https://colab.research.google.com/github/Leigh-Hermosura/CPE-201L-DSA-2-A/blob/main/Skill_Test.ipynb\" target=\"_parent\"><img src=\"https://colab.research.google.com/assets/colab-badge.svg\" alt=\"Open In Colab\"/></a>"
      ]
    },
    {
      "cell_type": "code",
      "execution_count": 43,
      "metadata": {
        "colab": {
          "base_uri": "https://localhost:8080/"
        },
        "id": "vbpS5-sELZuy",
        "outputId": "4d2dc05a-8164-4076-922a-eb47522c85d2"
      },
      "outputs": [
        {
          "output_type": "stream",
          "name": "stdout",
          "text": [
            "Queue is empty.\n",
            "\n",
            "[]\n",
            "\n",
            "Queue length: 0\n",
            "\n",
            "Queue is not empty.\n",
            "\n",
            "Queue length: 21\n",
            "\n",
            "['L', 'e', 'i', 'g', 'h', ' ', 'B', 'u', 'e', 'n', 'a', ' ', 'H', 'e', 'r', 'm', 'o', 's', 'u', 'r', 'a']\n",
            "\n",
            "First-in character: L\n"
          ]
        }
      ],
      "source": [
        "class Queue:\n",
        "  def __init__(self):\n",
        "    self.queue = []\n",
        "\n",
        "  def enqueue(self, dataval):\n",
        "    if dataval not in self.queue:\n",
        "      for char in dataval: # traverses through myName and appends each character\n",
        "        self.queue.append(char)\n",
        "      return True\n",
        "    else:\n",
        "      return False\n",
        "\n",
        "  def dequeue(self):\n",
        "    if len(self.queue) <= 0:\n",
        "      return \"Queue is empty, nothing to dequeue.\\n\"\n",
        "    else:\n",
        "      return self.queue.pop(0)\n",
        "\n",
        "  def printQueue(self):\n",
        "      print(self.queue)\n",
        "\n",
        "  def isQueueEmpty(self):\n",
        "    if len(self.queue) <= 0:\n",
        "      print(\"Queue is empty.\\n\")\n",
        "    else:\n",
        "      print(\"Queue is not empty.\\n\")\n",
        "\n",
        "  def queueLength(self):\n",
        "    print(f\"Queue length: {len(self.queue)}\\n\")\n",
        "\n",
        "  def firstIn(self):\n",
        "    print(f\"First-in character: {self.queue[0]}\")\n",
        "\n",
        "\n",
        "myName = \"Leigh Buena Hermosura\"\n",
        "\n",
        "MyQueue = Queue()\n",
        "MyQueue.isQueueEmpty()\n",
        "MyQueue.printQueue()\n",
        "print()\n",
        "MyQueue.queueLength()\n",
        "MyQueue.enqueue(myName)\n",
        "MyQueue.isQueueEmpty()\n",
        "MyQueue.queueLength()\n",
        "MyQueue.printQueue()\n",
        "print()\n",
        "MyQueue.firstIn()\n"
      ]
    }
  ]
}