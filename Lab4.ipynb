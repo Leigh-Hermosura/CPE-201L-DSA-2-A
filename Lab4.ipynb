{
  "nbformat": 4,
  "nbformat_minor": 0,
  "metadata": {
    "colab": {
      "provenance": [],
      "authorship_tag": "ABX9TyOTkmdIWhN9x56t6kf0KTlC",
      "include_colab_link": true
    },
    "kernelspec": {
      "name": "python3",
      "display_name": "Python 3"
    },
    "language_info": {
      "name": "python"
    }
  },
  "cells": [
    {
      "cell_type": "markdown",
      "metadata": {
        "id": "view-in-github",
        "colab_type": "text"
      },
      "source": [
        "<a href=\"https://colab.research.google.com/github/Leigh-Hermosura/CPE-201L-DSA-2-A/blob/main/Lab4.ipynb\" target=\"_parent\"><img src=\"https://colab.research.google.com/assets/colab-badge.svg\" alt=\"Open In Colab\"/></a>"
      ]
    },
    {
      "cell_type": "code",
      "execution_count": 45,
      "metadata": {
        "colab": {
          "base_uri": "https://localhost:8080/"
        },
        "id": "5RzlhNye3b5D",
        "outputId": "3c3b549f-5a0a-445e-a1e9-2a5754091297"
      },
      "outputs": [
        {
          "output_type": "stream",
          "name": "stdout",
          "text": [
            "--- Grocery List ---\n",
            "Fruit: Apple, Price: ₱10, Quantity: x7, Total: ₱70\n",
            "Fruit: Banana, Price: ₱10, Quantity: x8, Total: ₱80\n",
            "Vegetable: Broccoli, Price: ₱60, Quantity: x12, Total: ₱720\n",
            "Vegetable: Lettuce, Price: ₱50, Quantity: x10, Total: ₱500\n",
            "\n",
            "Total cost of groceries: ₱1370\n",
            "\n",
            "×--Lettuce has been removed from the grocery list--×\n",
            "\n",
            "--- Grocery List ---\n",
            "Fruit: Apple, Price: ₱10, Quantity: x7, Total: ₱70\n",
            "Fruit: Banana, Price: ₱10, Quantity: x8, Total: ₱80\n",
            "Vegetable: Broccoli, Price: ₱60, Quantity: x12, Total: ₱720\n",
            "\n",
            "Total cost of groceries: ₱870\n"
          ]
        }
      ],
      "source": [
        "import copy\n",
        "\n",
        "class GroceryItem:\n",
        "    def __init__(self, name, price, quantity): # constructor\n",
        "        self.name = name\n",
        "        self.price = price\n",
        "        self.quantity = quantity\n",
        "\n",
        "    def delete(self): # destructor\n",
        "        print(f\"×--{self.name} has been removed from the grocery list--×\\n\")\n",
        "\n",
        "    def calculateSum(self):\n",
        "        return self.price * self.quantity\n",
        "\n",
        "    def copy(self): # copy constructor\n",
        "        print(f\"Copy constructor called for {self.name}\")\n",
        "        return copy.deepcopy(self)\n",
        "\n",
        "    def assign(self, other): # copy assignment operator\n",
        "        print(f\"Assignment operator called: {other.name} -> {self.name}\")\n",
        "        self.name = other.name\n",
        "        self.price = other.price\n",
        "        self.quantity = other.quantity\n",
        "\n",
        "    def display(self): # display the grocery list\n",
        "        print(f\"{self.__class__.__name__}: {self.name}, Price: ₱{self.price}, Quantity: x{self.quantity}, Total: ₱{self.calculateSum()}\")\n",
        "\n",
        "\n",
        "class Fruit(GroceryItem):\n",
        "    pass\n",
        "\n",
        "class Vegetable(GroceryItem):\n",
        "    pass\n",
        "\n",
        "def TotalSum(grocery_objects): # calculate the sum of all objects on Jenna's grocery list\n",
        "    total = sum(item.calculateSum() for item in grocery_objects)\n",
        "    print(f\"Total cost of groceries: ₱{total}\")\n",
        "    return total\n",
        "\n",
        "GroceryList = {\n",
        "    \"Apple\":{\"price\":10, \"quantity\":7},\n",
        "    \"Banana\":{\"price\":10, \"quantity\":8},\n",
        "    \"Broccoli\":{\"price\":60, \"quantity\":12},\n",
        "    \"Lettuce\":{\"price\":50, \"quantity\":10}\n",
        "}\n",
        "\n",
        "groceryObjects = []\n",
        "\n",
        "for name, info in GroceryList.items():\n",
        "    if name in [\"Apple\", \"Banana\"]:\n",
        "        groceryObjects.append(Fruit(name, info[\"price\"], info[\"quantity\"]))\n",
        "    else:\n",
        "        groceryObjects.append(Vegetable(name, info[\"price\"], info[\"quantity\"]))\n",
        "\n",
        "# display all items\n",
        "print(\"--- Grocery List ---\")\n",
        "for item in groceryObjects:\n",
        "    item.display()\n",
        "\n",
        "print()\n",
        "total = TotalSum(groceryObjects)\n",
        "\n",
        "print()\n",
        "\n",
        "# deleting lettuce from the list\n",
        "for i, item in enumerate(groceryObjects):\n",
        "    if item.name == \"Lettuce\":\n",
        "        item.delete()\n",
        "        del groceryObjects[i]\n",
        "        break\n",
        "\n",
        "# display the updated list\n",
        "print(\"--- Grocery List ---\")\n",
        "for item in groceryObjects:\n",
        "    item.display()\n",
        "\n",
        "print()\n",
        "total = TotalSum(groceryObjects)\n"
      ]
    }
  ]
}