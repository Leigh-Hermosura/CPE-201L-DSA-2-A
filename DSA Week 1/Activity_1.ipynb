{
  "nbformat": 4,
  "nbformat_minor": 0,
  "metadata": {
    "colab": {
      "provenance": [],
      "authorship_tag": "ABX9TyMBPAgZh7jAa6WGgsulRTi5",
      "include_colab_link": true
    },
    "kernelspec": {
      "name": "python3",
      "display_name": "Python 3"
    },
    "language_info": {
      "name": "python"
    }
  },
  "cells": [
    {
      "cell_type": "markdown",
      "metadata": {
        "id": "view-in-github",
        "colab_type": "text"
      },
      "source": [
        "<a href=\"https://colab.research.google.com/github/Leigh-Hermosura/CPE-201L-DSA-2-A/blob/main/Activity_1.ipynb\" target=\"_parent\"><img src=\"https://colab.research.google.com/assets/colab-badge.svg\" alt=\"Open In Colab\"/></a>"
      ]
    },
    {
      "cell_type": "markdown",
      "source": [
        "computes the area of a circle with radius\n",
        "\n",
        "step 1 - ask user for radius value\n",
        "\n",
        "step 2 - compute the area of the circle by multiplying pi to radius squared\n",
        "\n",
        "step 3 - print the results\n"
      ],
      "metadata": {
        "id": "yCytOIvnmcyQ"
      }
    },
    {
      "cell_type": "code",
      "source": [
        "import math\n",
        "radius = int(input(\"Enter the radius of the circle: \"))\n",
        "areaCircle = math.pi * (radius ** 2)\n",
        "print(f\"The area of the circle is {round(areaCircle, 2)} units\")"
      ],
      "metadata": {
        "colab": {
          "base_uri": "https://localhost:8080/"
        },
        "id": "t81LngFeyoyo",
        "outputId": "5ecd467e-9d94-430c-fca0-3c1105099a65"
      },
      "execution_count": 29,
      "outputs": [
        {
          "output_type": "stream",
          "name": "stdout",
          "text": [
            "Enter the radius of the circle: 3\n",
            "The area of the circle is 28.27 units\n"
          ]
        }
      ]
    },
    {
      "cell_type": "markdown",
      "source": [
        "computes the area of a circle with diameter\n",
        "\n",
        "step 1 - ask user for diameter value\n",
        "\n",
        "step 2 - compute the area of the circle by dividing pi by 4 and multiplying it to diameter squared\n",
        "\n",
        "step 3 - print the results\n"
      ],
      "metadata": {
        "id": "pV-kFQ8-07bu"
      }
    },
    {
      "cell_type": "code",
      "source": [
        "import math\n",
        "diameter = int(input(\"Enter the diameter of the circle: \"))\n",
        "areaCircle = (math.pi/4) * (diameter ** 2)\n",
        "print(f\"The area of the circle is {round(areaCircle, 2)} units\")"
      ],
      "metadata": {
        "colab": {
          "base_uri": "https://localhost:8080/"
        },
        "id": "yP8cv0T70DyK",
        "outputId": "335be35a-16f0-4d6a-d812-063daf62ba39"
      },
      "execution_count": 28,
      "outputs": [
        {
          "output_type": "stream",
          "name": "stdout",
          "text": [
            "Enter the diameter of the circle: 6\n",
            "The area of the circle is 28.27 units\n"
          ]
        }
      ]
    }
  ]
}