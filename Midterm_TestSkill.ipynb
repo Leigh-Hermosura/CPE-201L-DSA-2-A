{
  "nbformat": 4,
  "nbformat_minor": 0,
  "metadata": {
    "colab": {
      "provenance": [],
      "authorship_tag": "ABX9TyO3dlgdnCY1e2+k+YL7hYHv",
      "include_colab_link": true
    },
    "kernelspec": {
      "name": "python3",
      "display_name": "Python 3"
    },
    "language_info": {
      "name": "python"
    }
  },
  "cells": [
    {
      "cell_type": "markdown",
      "metadata": {
        "id": "view-in-github",
        "colab_type": "text"
      },
      "source": [
        "<a href=\"https://colab.research.google.com/github/Leigh-Hermosura/CPE-201L-DSA-2-A/blob/main/Midterm_TestSkill.ipynb\" target=\"_parent\"><img src=\"https://colab.research.google.com/assets/colab-badge.svg\" alt=\"Open In Colab\"/></a>"
      ]
    },
    {
      "cell_type": "markdown",
      "source": [
        "1. Implement an Array of even integers less than 50 but not less than 20 and do the following operations:\n",
        "\n",
        "        a.) Display the elements"
      ],
      "metadata": {
        "id": "wt7OQSO4B_Ag"
      }
    },
    {
      "cell_type": "code",
      "execution_count": 61,
      "metadata": {
        "colab": {
          "base_uri": "https://localhost:8080/"
        },
        "id": "-xxCcJtWB51B",
        "outputId": "8caa90ee-6bca-4344-8ab6-bdefc680e8fd"
      },
      "outputs": [
        {
          "output_type": "execute_result",
          "data": {
            "text/plain": [
              "array('i', [20, 22, 24, 26, 28, 30, 32, 34, 36, 38, 40, 42, 44, 46, 48])"
            ]
          },
          "metadata": {},
          "execution_count": 61
        }
      ],
      "source": [
        "import array as Arr\n",
        "\n",
        "rangeKoPo = range(20, 50, 2)\n",
        "\n",
        "array.typecodes\n",
        "arrayKoPo = Arr.array('i', [])\n",
        "taposNaPo = Arr.array('i', (int(x) for x in rangeKoPo))\n",
        "taposNaPo\n"
      ]
    },
    {
      "cell_type": "markdown",
      "source": [
        "2. Implement a singly-linked list of odd integers from 1 to 30 and do the following operations:\n",
        "\n",
        "        a.) Display all data"
      ],
      "metadata": {
        "id": "EfjrH7YvDHPG"
      }
    },
    {
      "cell_type": "code",
      "source": [
        "class Node:\n",
        "  def __init__(self, data):\n",
        "    self.data = data\n",
        "    self.next = None\n",
        "\n",
        "class LinkedList:\n",
        "  def __init__(self):\n",
        "    self.head = None\n",
        "\n",
        "  def isEmpty(self):\n",
        "    return self.head is None\n",
        "\n",
        "  def printAll(self):\n",
        "    if self.isEmpty():\n",
        "      print(\"List is empty\")\n",
        "      return\n",
        "\n",
        "    current = self.head\n",
        "    print(\"Linked list: \", end=\"\")\n",
        "    while current:\n",
        "      print(current.data, end=\"\")\n",
        "      if current.next:\n",
        "        print(\" -> \", end=\"\")\n",
        "      current = current.next\n",
        "    print(\" -> NULL\")\n",
        "\n",
        "  def addItem(self, newData):\n",
        "    newNode = Node(newData)\n",
        "    if not self.head:\n",
        "      self.head = newNode\n",
        "      return\n",
        "    last = self.head\n",
        "    while last.next:\n",
        "      last = last.next\n",
        "    last.next = newNode\n",
        "\n",
        "def oddGenerator(llist):\n",
        "  for num in range(0, 30):\n",
        "    if num % 2 != 0:\n",
        "      linkListKoPo.addItem(num)\n",
        "\n",
        "if __name__ == \"__main__\":\n",
        "  linkListKoPo = LinkedList()\n",
        "\n",
        "oddGenerator(linkListKoPo)\n",
        "linkListKoPo.printAll()\n"
      ],
      "metadata": {
        "colab": {
          "base_uri": "https://localhost:8080/"
        },
        "id": "WY652RWIDRs-",
        "outputId": "54172836-7bc0-4fc5-aaa2-d2669a7da54f"
      },
      "execution_count": 62,
      "outputs": [
        {
          "output_type": "stream",
          "name": "stdout",
          "text": [
            "Linked list: 1 -> 3 -> 5 -> 7 -> 9 -> 11 -> 13 -> 15 -> 17 -> 19 -> 21 -> 23 -> 25 -> 27 -> 29 -> NULL\n"
          ]
        }
      ]
    }
  ]
}