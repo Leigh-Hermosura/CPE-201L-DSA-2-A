{
  "nbformat": 4,
  "nbformat_minor": 0,
  "metadata": {
    "colab": {
      "provenance": [],
      "authorship_tag": "ABX9TyP8POP0jEqVB2meu1QyaUJ3",
      "include_colab_link": true
    },
    "kernelspec": {
      "name": "python3",
      "display_name": "Python 3"
    },
    "language_info": {
      "name": "python"
    }
  },
  "cells": [
    {
      "cell_type": "markdown",
      "metadata": {
        "id": "view-in-github",
        "colab_type": "text"
      },
      "source": [
        "<a href=\"https://colab.research.google.com/github/Leigh-Hermosura/CPE-201L-DSA-2-A/blob/main/Midterm_TestSkill.ipynb\" target=\"_parent\"><img src=\"https://colab.research.google.com/assets/colab-badge.svg\" alt=\"Open In Colab\"/></a>"
      ]
    },
    {
      "cell_type": "markdown",
      "source": [
        "2. Implement a singly-linked list of odd integers from 1 to 30 and do the following operations:\n",
        "\n",
        "        a.) Display all data\n",
        "        b.) Append a node\n",
        "        c.) Delete a node"
      ],
      "metadata": {
        "id": "EfjrH7YvDHPG"
      }
    },
    {
      "cell_type": "code",
      "source": [
        "class Node:\n",
        "  def __init__(self, data):\n",
        "    self.data = data\n",
        "    self.next = None\n",
        "\n",
        "class LinkedList:\n",
        "  def __init__(self):\n",
        "    self.head = None\n",
        "\n",
        "  def isEmpty(self):\n",
        "    return self.head is None\n",
        "\n",
        "  def displayAll(self):\n",
        "    if self.isEmpty():\n",
        "      print(\"List is empty\")\n",
        "      return\n",
        "\n",
        "    current = self.head\n",
        "    print(\"Display linked list: \", end=\"\")\n",
        "    while current:\n",
        "      print(current.data, end=\"\")\n",
        "      if current.next:\n",
        "        print(\" -> \", end=\"\")\n",
        "      current = current.next\n",
        "    print(\" -> NULL\")\n",
        "\n",
        "  def addItem(self, newData):\n",
        "    newNode = Node(newData)\n",
        "    if not self.head:\n",
        "      self.head = newNode\n",
        "      return\n",
        "    last = self.head\n",
        "    while last.next:\n",
        "      last = last.next\n",
        "    last.next = newNode\n",
        "\n",
        "  def deleteItem(self, key):\n",
        "    current = self.head\n",
        "    if current and current.data == key:\n",
        "        self.head = current.next\n",
        "        current = None\n",
        "        return\n",
        "    prev = None\n",
        "    while current and current.data != key:\n",
        "        prev = current\n",
        "        current = current.next\n",
        "    if current is None:\n",
        "        return\n",
        "    prev.next = current.next\n",
        "    current = None\n",
        "\n",
        "def oddGenerator(llist):\n",
        "  for num in range (0, 30):\n",
        "    if num %2 != 0:\n",
        "      linkListKoPo.addItem(num)\n",
        "\n",
        "if __name__ == \"__main__\":\n",
        "  linkListKoPo = LinkedList()\n",
        "\n",
        "oddGenerator(linkListKoPo)\n",
        "linkListKoPo.displayAll()\n",
        "print()\n",
        "\n",
        "while True:\n",
        "  choice = input(\"\"\"What will you do?\n",
        "  1 - Append a node\n",
        "  2 - Delete a node\n",
        "  3 - Display all data\n",
        "  4 - Nothing\n",
        "\n",
        "  > \"\"\")\n",
        "\n",
        "  if choice == \"1\":\n",
        "    print()\n",
        "    userAdd = input(\"Input node to add: \")\n",
        "    linkListKoPo.addItem(userAdd)\n",
        "    print()\n",
        "\n",
        "  elif choice == \"2\":\n",
        "    print()\n",
        "    userDel = int(input(\"Input node to delete: \"))\n",
        "    linkListKoPo.deleteItem(userDel)\n",
        "    print()\n",
        "\n",
        "  elif choice == \"3\":\n",
        "    print()\n",
        "    linkListKoPo.displayAll()\n",
        "    print()\n",
        "\n",
        "  elif choice == \"4\":\n",
        "    print(\"---×× Program Terminated ××---\")\n",
        "    break\n",
        "\n",
        "  else:\n",
        "    print(\"Invalid input, try again\\n\")"
      ],
      "metadata": {
        "id": "WY652RWIDRs-",
        "colab": {
          "base_uri": "https://localhost:8080/"
        },
        "outputId": "b5368696-31ff-49c5-f4fe-deb5e93659d8"
      },
      "execution_count": 87,
      "outputs": [
        {
          "output_type": "stream",
          "name": "stdout",
          "text": [
            "Display linked list: 1 -> 3 -> 5 -> 7 -> 9 -> 11 -> 13 -> 15 -> 17 -> 19 -> 21 -> 23 -> 25 -> 27 -> 29 -> NULL\n",
            "\n",
            "What will you do?\n",
            "  1 - Append a node\n",
            "  2 - Delete a node\n",
            "  3 - Display all data\n",
            "  4 - Nothing\n",
            "  \n",
            "  > 1\n",
            "\n",
            "Input node to add: 1000000\n",
            "\n",
            "What will you do?\n",
            "  1 - Append a node\n",
            "  2 - Delete a node\n",
            "  3 - Display all data\n",
            "  4 - Nothing\n",
            "  \n",
            "  > 2\n",
            "\n",
            "Input node to delete: 1\n",
            "\n",
            "What will you do?\n",
            "  1 - Append a node\n",
            "  2 - Delete a node\n",
            "  3 - Display all data\n",
            "  4 - Nothing\n",
            "  \n",
            "  > 3\n",
            "\n",
            "Display linked list: 3 -> 5 -> 7 -> 9 -> 11 -> 13 -> 15 -> 17 -> 19 -> 21 -> 23 -> 25 -> 27 -> 29 -> 1000000 -> NULL\n",
            "\n",
            "What will you do?\n",
            "  1 - Append a node\n",
            "  2 - Delete a node\n",
            "  3 - Display all data\n",
            "  4 - Nothing\n",
            "  \n",
            "  > 4\n",
            "---×× Program Terminated ××---\n"
          ]
        }
      ]
    }
  ]
}