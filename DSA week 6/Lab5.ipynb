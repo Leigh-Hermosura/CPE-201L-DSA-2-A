{
  "nbformat": 4,
  "nbformat_minor": 0,
  "metadata": {
    "colab": {
      "provenance": [],
      "authorship_tag": "ABX9TyOy5OYZhMbfVpJuCAu6zG27",
      "include_colab_link": true
    },
    "kernelspec": {
      "name": "python3",
      "display_name": "Python 3"
    },
    "language_info": {
      "name": "python"
    }
  },
  "cells": [
    {
      "cell_type": "markdown",
      "metadata": {
        "id": "view-in-github",
        "colab_type": "text"
      },
      "source": [
        "<a href=\"https://colab.research.google.com/github/Leigh-Hermosura/CPE-201L-DSA-2-A/blob/main/Lab5.ipynb\" target=\"_parent\"><img src=\"https://colab.research.google.com/assets/colab-badge.svg\" alt=\"Open In Colab\"/></a>"
      ]
    },
    {
      "cell_type": "markdown",
      "source": [
        "•\tWrite a Python program to create an array of 10 integers and display the array items. Access individual elements through indexes and compute for the sum."
      ],
      "metadata": {
        "id": "1SaluTohSqGp"
      }
    },
    {
      "cell_type": "code",
      "execution_count": 62,
      "metadata": {
        "colab": {
          "base_uri": "https://localhost:8080/"
        },
        "id": "3sVPu-4qKRAo",
        "outputId": "529308f2-ad38-4cdd-d947-ec22eed569c7"
      },
      "outputs": [
        {
          "output_type": "stream",
          "name": "stdout",
          "text": [
            "array = [1, 2, 3, 4, 5, 6, 7, 8, 9, 10]\n",
            "Sum of array = 55\n"
          ]
        }
      ],
      "source": [
        "# array of 10 integers\n",
        "array = [1, 2, 3, 4, 5, 6, 7, 8, 9, 10]\n",
        "total = 0\n",
        "\n",
        "# # display array items\n",
        "print(f\"array = {array}\")\n",
        "\n",
        "# loop for accessing elements and computing the sum\n",
        "for element in array:\n",
        "  total += element\n",
        "print(f\"Sum of array = {total}\")\n",
        ""
      ]
    },
    {
      "cell_type": "markdown",
      "source": [
        "•\tWrite a Python program to append a new item to the end of the array. Original array: numbers = [1, 2, 3, 4, 5, 6, 7, 8, 9, 10]"
      ],
      "metadata": {
        "id": "iT6zQ0rQZmRx"
      }
    },
    {
      "cell_type": "code",
      "source": [
        "numbers = [1, 2, 3, 4, 5, 6, 7, 8, 9, 10]\n",
        "\n",
        "# user input to append a new item\n",
        "for i in range(3):\n",
        "  print(f\"numbers = {numbers}\")\n",
        "  add = int(input(\"What number will you append in the list? \"))\n",
        "  numbers.append(add)\n",
        "  print(f\"\\nUpdated list:\\nnumbers = {numbers}\\n\")\n"
      ],
      "metadata": {
        "colab": {
          "base_uri": "https://localhost:8080/"
        },
        "id": "7QUznneFOreX",
        "outputId": "77142aa3-f32f-41cc-981f-258685cc075a"
      },
      "execution_count": 66,
      "outputs": [
        {
          "output_type": "stream",
          "name": "stdout",
          "text": [
            "numbers = [1, 2, 3, 4, 5, 6, 7, 8, 9, 10]\n",
            "What number will you append in the list? 66\n",
            "\n",
            "Updated list:\n",
            "numbers = [1, 2, 3, 4, 5, 6, 7, 8, 9, 10, 66]\n",
            "\n",
            "numbers = [1, 2, 3, 4, 5, 6, 7, 8, 9, 10, 66]\n",
            "What number will you append in the list? 20\n",
            "\n",
            "Updated list:\n",
            "numbers = [1, 2, 3, 4, 5, 6, 7, 8, 9, 10, 66, 20]\n",
            "\n",
            "numbers = [1, 2, 3, 4, 5, 6, 7, 8, 9, 10, 66, 20]\n",
            "What number will you append in the list? 40\n",
            "\n",
            "Updated list:\n",
            "numbers = [1, 2, 3, 4, 5, 6, 7, 8, 9, 10, 66, 20, 40]\n",
            "\n"
          ]
        }
      ]
    },
    {
      "cell_type": "markdown",
      "source": [
        "•\tWrite a Python program to insert a new item before the second element in an existing array. Original array: numbers = [1, 2, 3, 4, 5, 6, 7, 8, 9, 10]"
      ],
      "metadata": {
        "id": "9u1yP9hWZkPo"
      }
    },
    {
      "cell_type": "code",
      "source": [
        "numbers = [1, 2, 3, 4, 5, 6, 7, 8, 9, 10]\n",
        "\n",
        "# user input to append an item before the second element\n",
        "for i in range(3):\n",
        "  print(f\"numbers = {numbers}\")\n",
        "  append = int(input(\"What number will you append in the list? \"))\n",
        "  numbers.insert(1, append)\n",
        "  print(f\"\\nUpdated list:\\nnumbers = {numbers}\\n\")\n"
      ],
      "metadata": {
        "colab": {
          "base_uri": "https://localhost:8080/"
        },
        "id": "R-bkOoqMQbGZ",
        "outputId": "4bc5b14b-3c23-44dc-ffb6-f99450c00f80"
      },
      "execution_count": 50,
      "outputs": [
        {
          "output_type": "stream",
          "name": "stdout",
          "text": [
            "numbers = [1, 2, 3, 4, 5, 6, 7, 8, 9, 10]\n",
            "What number will you append in the list? 6\n",
            "\n",
            "Updated list:\n",
            "numbers = [1, 6, 2, 3, 4, 5, 6, 7, 8, 9, 10]\n",
            "\n",
            "numbers = [1, 6, 2, 3, 4, 5, 6, 7, 8, 9, 10]\n",
            "What number will you append in the list? 9\n",
            "\n",
            "Updated list:\n",
            "numbers = [1, 9, 6, 2, 3, 4, 5, 6, 7, 8, 9, 10]\n",
            "\n",
            "numbers = [1, 9, 6, 2, 3, 4, 5, 6, 7, 8, 9, 10]\n",
            "What number will you append in the list? 09\n",
            "\n",
            "Updated list:\n",
            "numbers = [1, 9, 9, 6, 2, 3, 4, 5, 6, 7, 8, 9, 10]\n",
            "\n"
          ]
        }
      ]
    },
    {
      "cell_type": "markdown",
      "source": [
        "•\tWrite a Python program to reverse the order of the items in the array. Original array: numbers = [5, 4, 3, 2, 1]"
      ],
      "metadata": {
        "id": "PYQ0LepPZiIa"
      }
    },
    {
      "cell_type": "code",
      "source": [
        "numbers = [5, 4, 3, 2, 1]\n",
        "print(f\"numbers = {numbers}\")\n",
        "\n",
        "# reversing the array\n",
        "numbers.reverse()\n",
        "\n",
        "print(f\"\\nreversed:\\nnumbers = {numbers}\")\n"
      ],
      "metadata": {
        "colab": {
          "base_uri": "https://localhost:8080/"
        },
        "id": "ky6cmftOSKlo",
        "outputId": "a84a9a01-c759-428c-e430-fb640150d69e"
      },
      "execution_count": 53,
      "outputs": [
        {
          "output_type": "stream",
          "name": "stdout",
          "text": [
            "numbers = [5, 4, 3, 2, 1]\n",
            "\n",
            "reversed:\n",
            "numbers = [1, 2, 3, 4, 5]\n"
          ]
        }
      ]
    },
    {
      "cell_type": "markdown",
      "source": [
        "Write a Python program to get the length of the array. Original array: numbers = [5, 4, 3, 2, 1]"
      ],
      "metadata": {
        "id": "UGbDWFlKbLy5"
      }
    },
    {
      "cell_type": "code",
      "source": [
        "numbers = [5, 4, 3, 2, 1]\n",
        "print(f\"numbers = {numbers}\")\n",
        "\n",
        "\n",
        "# getting the length of the array\n",
        "print(f\"\\nLength of array: {len(numbers)}\")\n"
      ],
      "metadata": {
        "colab": {
          "base_uri": "https://localhost:8080/"
        },
        "id": "g9PSH5-mbLeT",
        "outputId": "a64269ea-c059-4e47-c970-e97391ff5078"
      },
      "execution_count": 59,
      "outputs": [
        {
          "output_type": "stream",
          "name": "stdout",
          "text": [
            "numbers = [5, 4, 3, 2, 1]\n",
            "\n",
            "Length of array: 5\n"
          ]
        }
      ]
    }
  ]
}